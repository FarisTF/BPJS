{
 "cells": [
  {
   "cell_type": "code",
   "execution_count": 8,
   "metadata": {},
   "outputs": [],
   "source": [
    "# Pandas dibutuhkan untuk manipulasi dan transformasi data\n",
    "import pandas as pd\n",
    "\n",
    "import numpy as np\n",
    "# Sklearn digunakan untuk segala hal yang berhubungan dengan machine learning modeling\n",
    "# train_test_split : untuk membagi data train menjadi data untuk training dan validasi\n",
    "from sklearn.model_selection import train_test_split\n",
    "\n",
    "# DecisionTreeClassifier : contoh model yang digunakan disini yaitu Decision Tree\n",
    "\n",
    "from sklearn.metrics import confusion_matrix\n",
    "\n",
    "from sklearn.preprocessing import OneHotEncoder\n",
    "\n",
    "from sklearn.ensemble import RandomForestClassifier\n",
    "\n",
    "from sklearn.preprocessing import LabelEncoder"
   ]
  },
  {
   "cell_type": "code",
   "execution_count": 9,
   "metadata": {},
   "outputs": [],
   "source": [
    "from datetime import datetime\n",
    "\n",
    "def days_between(d1, d2):\n",
    "    d1 = datetime.strptime(d1, \"%Y-%m-%d\")\n",
    "    d2 = datetime.strptime(d2, \"%Y-%m-%d\")\n",
    "    return abs((d2 - d1).days)\n"
   ]
  },
  {
   "cell_type": "code",
   "execution_count": 38,
   "metadata": {},
   "outputs": [],
   "source": [
    "# Data Preparation\n",
    "df = pd.read_csv('sampling_healtkathon2022/sampling_healtkathon2022.csv')"
   ]
  },
  {
   "cell_type": "code",
   "execution_count": 11,
   "metadata": {},
   "outputs": [],
   "source": [
    "rand_processed = df"
   ]
  },
  {
   "cell_type": "code",
   "execution_count": 12,
   "metadata": {},
   "outputs": [
    {
     "data": {
      "text/html": [
       "<div>\n",
       "<style scoped>\n",
       "    .dataframe tbody tr th:only-of-type {\n",
       "        vertical-align: middle;\n",
       "    }\n",
       "\n",
       "    .dataframe tbody tr th {\n",
       "        vertical-align: top;\n",
       "    }\n",
       "\n",
       "    .dataframe thead th {\n",
       "        text-align: right;\n",
       "    }\n",
       "</style>\n",
       "<table border=\"1\" class=\"dataframe\">\n",
       "  <thead>\n",
       "    <tr style=\"text-align: right;\">\n",
       "      <th></th>\n",
       "      <th>dati2</th>\n",
       "      <th>typefaskes</th>\n",
       "      <th>usia</th>\n",
       "      <th>jenkel</th>\n",
       "      <th>pisat</th>\n",
       "      <th>tgldatang</th>\n",
       "      <th>tglpulang</th>\n",
       "      <th>jenispel</th>\n",
       "      <th>politujuan</th>\n",
       "      <th>diagfktp</th>\n",
       "      <th>jenispulang</th>\n",
       "      <th>cbg</th>\n",
       "      <th>kelasrawat</th>\n",
       "      <th>kdsa</th>\n",
       "      <th>kdsp</th>\n",
       "      <th>kdsr</th>\n",
       "      <th>kdsi</th>\n",
       "      <th>kdsd</th>\n",
       "      <th>label</th>\n",
       "      <th>biaya_bagi100</th>\n",
       "    </tr>\n",
       "  </thead>\n",
       "  <tbody>\n",
       "    <tr>\n",
       "      <th>0</th>\n",
       "      <td>17</td>\n",
       "      <td>KL</td>\n",
       "      <td>48</td>\n",
       "      <td>P</td>\n",
       "      <td>1.0</td>\n",
       "      <td>2018-07-25T17:00:00.000Z</td>\n",
       "      <td>2018-07-25T17:00:00.000Z</td>\n",
       "      <td>2</td>\n",
       "      <td>THT</td>\n",
       "      <td>L02.8</td>\n",
       "      <td>1.0</td>\n",
       "      <td>Q-5-42-0</td>\n",
       "      <td>3</td>\n",
       "      <td>None</td>\n",
       "      <td>None</td>\n",
       "      <td>None</td>\n",
       "      <td>None</td>\n",
       "      <td>None</td>\n",
       "      <td>0</td>\n",
       "      <td>1843.0</td>\n",
       "    </tr>\n",
       "    <tr>\n",
       "      <th>1</th>\n",
       "      <td>17</td>\n",
       "      <td>A</td>\n",
       "      <td>63</td>\n",
       "      <td>L</td>\n",
       "      <td>1.0</td>\n",
       "      <td>2019-05-27T17:00:00.000Z</td>\n",
       "      <td>2019-05-30T17:00:00.000Z</td>\n",
       "      <td>1</td>\n",
       "      <td>NaN</td>\n",
       "      <td>R23.1</td>\n",
       "      <td>1.0</td>\n",
       "      <td>D-4-13-III</td>\n",
       "      <td>1</td>\n",
       "      <td>None</td>\n",
       "      <td>None</td>\n",
       "      <td>None</td>\n",
       "      <td>None</td>\n",
       "      <td>None</td>\n",
       "      <td>0</td>\n",
       "      <td>106284.0</td>\n",
       "    </tr>\n",
       "    <tr>\n",
       "      <th>2</th>\n",
       "      <td>17</td>\n",
       "      <td>KL</td>\n",
       "      <td>53</td>\n",
       "      <td>P</td>\n",
       "      <td>1.0</td>\n",
       "      <td>2019-07-16T17:00:00.000Z</td>\n",
       "      <td>2019-07-16T17:00:00.000Z</td>\n",
       "      <td>2</td>\n",
       "      <td>INT</td>\n",
       "      <td>E10.5</td>\n",
       "      <td>1.0</td>\n",
       "      <td>Q-5-44-0</td>\n",
       "      <td>3</td>\n",
       "      <td>None</td>\n",
       "      <td>None</td>\n",
       "      <td>None</td>\n",
       "      <td>None</td>\n",
       "      <td>None</td>\n",
       "      <td>0</td>\n",
       "      <td>1873.0</td>\n",
       "    </tr>\n",
       "    <tr>\n",
       "      <th>3</th>\n",
       "      <td>17</td>\n",
       "      <td>KL</td>\n",
       "      <td>54</td>\n",
       "      <td>P</td>\n",
       "      <td>1.0</td>\n",
       "      <td>2019-10-17T17:00:00.000Z</td>\n",
       "      <td>2019-10-17T17:00:00.000Z</td>\n",
       "      <td>2</td>\n",
       "      <td>MAT</td>\n",
       "      <td>H54.2</td>\n",
       "      <td>1.0</td>\n",
       "      <td>Q-5-44-0</td>\n",
       "      <td>3</td>\n",
       "      <td>None</td>\n",
       "      <td>None</td>\n",
       "      <td>None</td>\n",
       "      <td>None</td>\n",
       "      <td>None</td>\n",
       "      <td>0</td>\n",
       "      <td>1873.0</td>\n",
       "    </tr>\n",
       "    <tr>\n",
       "      <th>4</th>\n",
       "      <td>17</td>\n",
       "      <td>A</td>\n",
       "      <td>53</td>\n",
       "      <td>P</td>\n",
       "      <td>1.0</td>\n",
       "      <td>2018-04-18T17:00:00.000Z</td>\n",
       "      <td>2018-04-18T17:00:00.000Z</td>\n",
       "      <td>2</td>\n",
       "      <td>SAR</td>\n",
       "      <td>M54.5</td>\n",
       "      <td>1.0</td>\n",
       "      <td>Q-5-44-0</td>\n",
       "      <td>3</td>\n",
       "      <td>None</td>\n",
       "      <td>None</td>\n",
       "      <td>None</td>\n",
       "      <td>None</td>\n",
       "      <td>None</td>\n",
       "      <td>0</td>\n",
       "      <td>3816.0</td>\n",
       "    </tr>\n",
       "    <tr>\n",
       "      <th>...</th>\n",
       "      <td>...</td>\n",
       "      <td>...</td>\n",
       "      <td>...</td>\n",
       "      <td>...</td>\n",
       "      <td>...</td>\n",
       "      <td>...</td>\n",
       "      <td>...</td>\n",
       "      <td>...</td>\n",
       "      <td>...</td>\n",
       "      <td>...</td>\n",
       "      <td>...</td>\n",
       "      <td>...</td>\n",
       "      <td>...</td>\n",
       "      <td>...</td>\n",
       "      <td>...</td>\n",
       "      <td>...</td>\n",
       "      <td>...</td>\n",
       "      <td>...</td>\n",
       "      <td>...</td>\n",
       "      <td>...</td>\n",
       "    </tr>\n",
       "    <tr>\n",
       "      <th>11401877</th>\n",
       "      <td>301</td>\n",
       "      <td>B</td>\n",
       "      <td>0</td>\n",
       "      <td>P</td>\n",
       "      <td>4.0</td>\n",
       "      <td>2020-12-30T17:00:00.000Z</td>\n",
       "      <td>2021-01-03T17:00:00.000Z</td>\n",
       "      <td>1</td>\n",
       "      <td>NaN</td>\n",
       "      <td>Z71.8</td>\n",
       "      <td>1.0</td>\n",
       "      <td>P-8-17-I</td>\n",
       "      <td>3</td>\n",
       "      <td>None</td>\n",
       "      <td>None</td>\n",
       "      <td>None</td>\n",
       "      <td>None</td>\n",
       "      <td>None</td>\n",
       "      <td>0</td>\n",
       "      <td>36451.0</td>\n",
       "    </tr>\n",
       "    <tr>\n",
       "      <th>11401878</th>\n",
       "      <td>233</td>\n",
       "      <td>A</td>\n",
       "      <td>0</td>\n",
       "      <td>P</td>\n",
       "      <td>4.0</td>\n",
       "      <td>2020-12-30T17:00:00.000Z</td>\n",
       "      <td>2021-01-03T17:00:00.000Z</td>\n",
       "      <td>1</td>\n",
       "      <td>NaN</td>\n",
       "      <td>P59.9</td>\n",
       "      <td>1.0</td>\n",
       "      <td>P-8-13-II</td>\n",
       "      <td>2</td>\n",
       "      <td>None</td>\n",
       "      <td>None</td>\n",
       "      <td>None</td>\n",
       "      <td>None</td>\n",
       "      <td>None</td>\n",
       "      <td>0</td>\n",
       "      <td>122732.0</td>\n",
       "    </tr>\n",
       "    <tr>\n",
       "      <th>11401879</th>\n",
       "      <td>118</td>\n",
       "      <td>B</td>\n",
       "      <td>0</td>\n",
       "      <td>L</td>\n",
       "      <td>4.0</td>\n",
       "      <td>2020-12-30T17:00:00.000Z</td>\n",
       "      <td>2021-01-06T17:00:00.000Z</td>\n",
       "      <td>1</td>\n",
       "      <td>NaN</td>\n",
       "      <td>P24.8</td>\n",
       "      <td>1.0</td>\n",
       "      <td>P-8-08-I</td>\n",
       "      <td>3</td>\n",
       "      <td>None</td>\n",
       "      <td>None</td>\n",
       "      <td>None</td>\n",
       "      <td>None</td>\n",
       "      <td>None</td>\n",
       "      <td>0</td>\n",
       "      <td>40990.0</td>\n",
       "    </tr>\n",
       "    <tr>\n",
       "      <th>11401880</th>\n",
       "      <td>101</td>\n",
       "      <td>SC</td>\n",
       "      <td>0</td>\n",
       "      <td>L</td>\n",
       "      <td>5.0</td>\n",
       "      <td>2020-12-29T17:00:00.000Z</td>\n",
       "      <td>2020-12-31T17:00:00.000Z</td>\n",
       "      <td>1</td>\n",
       "      <td>NaN</td>\n",
       "      <td>P03</td>\n",
       "      <td>1.0</td>\n",
       "      <td>P-8-08-I</td>\n",
       "      <td>3</td>\n",
       "      <td>None</td>\n",
       "      <td>None</td>\n",
       "      <td>None</td>\n",
       "      <td>None</td>\n",
       "      <td>None</td>\n",
       "      <td>0</td>\n",
       "      <td>39924.0</td>\n",
       "    </tr>\n",
       "    <tr>\n",
       "      <th>11401881</th>\n",
       "      <td>12</td>\n",
       "      <td>SD</td>\n",
       "      <td>0</td>\n",
       "      <td>P</td>\n",
       "      <td>4.0</td>\n",
       "      <td>2020-12-29T17:00:00.000Z</td>\n",
       "      <td>2020-12-31T17:00:00.000Z</td>\n",
       "      <td>1</td>\n",
       "      <td>NaN</td>\n",
       "      <td>P21.1</td>\n",
       "      <td>1.0</td>\n",
       "      <td>P-8-16-I</td>\n",
       "      <td>3</td>\n",
       "      <td>None</td>\n",
       "      <td>None</td>\n",
       "      <td>None</td>\n",
       "      <td>None</td>\n",
       "      <td>None</td>\n",
       "      <td>0</td>\n",
       "      <td>16249.0</td>\n",
       "    </tr>\n",
       "  </tbody>\n",
       "</table>\n",
       "<p>11401882 rows × 20 columns</p>\n",
       "</div>"
      ],
      "text/plain": [
       "          dati2 typefaskes  usia jenkel  pisat                 tgldatang  \\\n",
       "0            17         KL    48      P    1.0  2018-07-25T17:00:00.000Z   \n",
       "1            17          A    63      L    1.0  2019-05-27T17:00:00.000Z   \n",
       "2            17         KL    53      P    1.0  2019-07-16T17:00:00.000Z   \n",
       "3            17         KL    54      P    1.0  2019-10-17T17:00:00.000Z   \n",
       "4            17          A    53      P    1.0  2018-04-18T17:00:00.000Z   \n",
       "...         ...        ...   ...    ...    ...                       ...   \n",
       "11401877    301          B     0      P    4.0  2020-12-30T17:00:00.000Z   \n",
       "11401878    233          A     0      P    4.0  2020-12-30T17:00:00.000Z   \n",
       "11401879    118          B     0      L    4.0  2020-12-30T17:00:00.000Z   \n",
       "11401880    101         SC     0      L    5.0  2020-12-29T17:00:00.000Z   \n",
       "11401881     12         SD     0      P    4.0  2020-12-29T17:00:00.000Z   \n",
       "\n",
       "                         tglpulang  jenispel politujuan diagfktp  jenispulang  \\\n",
       "0         2018-07-25T17:00:00.000Z         2        THT    L02.8          1.0   \n",
       "1         2019-05-30T17:00:00.000Z         1        NaN    R23.1          1.0   \n",
       "2         2019-07-16T17:00:00.000Z         2        INT    E10.5          1.0   \n",
       "3         2019-10-17T17:00:00.000Z         2        MAT    H54.2          1.0   \n",
       "4         2018-04-18T17:00:00.000Z         2        SAR    M54.5          1.0   \n",
       "...                            ...       ...        ...      ...          ...   \n",
       "11401877  2021-01-03T17:00:00.000Z         1        NaN    Z71.8          1.0   \n",
       "11401878  2021-01-03T17:00:00.000Z         1        NaN    P59.9          1.0   \n",
       "11401879  2021-01-06T17:00:00.000Z         1        NaN    P24.8          1.0   \n",
       "11401880  2020-12-31T17:00:00.000Z         1        NaN      P03          1.0   \n",
       "11401881  2020-12-31T17:00:00.000Z         1        NaN    P21.1          1.0   \n",
       "\n",
       "                 cbg  kelasrawat  kdsa  kdsp  kdsr  kdsi  kdsd  label  \\\n",
       "0           Q-5-42-0           3  None  None  None  None  None      0   \n",
       "1         D-4-13-III           1  None  None  None  None  None      0   \n",
       "2           Q-5-44-0           3  None  None  None  None  None      0   \n",
       "3           Q-5-44-0           3  None  None  None  None  None      0   \n",
       "4           Q-5-44-0           3  None  None  None  None  None      0   \n",
       "...              ...         ...   ...   ...   ...   ...   ...    ...   \n",
       "11401877    P-8-17-I           3  None  None  None  None  None      0   \n",
       "11401878   P-8-13-II           2  None  None  None  None  None      0   \n",
       "11401879    P-8-08-I           3  None  None  None  None  None      0   \n",
       "11401880    P-8-08-I           3  None  None  None  None  None      0   \n",
       "11401881    P-8-16-I           3  None  None  None  None  None      0   \n",
       "\n",
       "          biaya_bagi100  \n",
       "0                1843.0  \n",
       "1              106284.0  \n",
       "2                1873.0  \n",
       "3                1873.0  \n",
       "4                3816.0  \n",
       "...                 ...  \n",
       "11401877        36451.0  \n",
       "11401878       122732.0  \n",
       "11401879        40990.0  \n",
       "11401880        39924.0  \n",
       "11401881        16249.0  \n",
       "\n",
       "[11401882 rows x 20 columns]"
      ]
     },
     "execution_count": 12,
     "metadata": {},
     "output_type": "execute_result"
    }
   ],
   "source": [
    "# Drop semua yang gak dibutuhin\n",
    "rand_processed = rand_processed.drop(columns=['id'])\n",
    "rand_processed = rand_processed.drop(columns=['id_peserta'])\n",
    "\n",
    "# Drop semua yang gak dibutuhin\n",
    "rand_processed['biaya_bagi100'] = rand_processed['biaya']/100\n",
    "rand_processed = rand_processed.drop(columns=['biaya'])\n",
    "\n",
    "rand_processed"
   ]
  },
  {
   "cell_type": "code",
   "execution_count": 16,
   "metadata": {},
   "outputs": [],
   "source": [
    "rand_processed[\"Selisih\"] = \" \"\n",
    "\n",
    "for i in range(len(rand_processed)) :\n",
    "     \n",
    "    x = rand_processed.iloc[i]['tgldatang']\n",
    "    y = rand_processed.iloc[i]['tglpulang']\n",
    "\n",
    "    if x == y :\n",
    "        rand_processed.at[i,'Selisih'] = 0\n",
    "\n",
    "    else :\n",
    "\n",
    "        TanggalX = x[0:10]\n",
    "        TanggalY = y[0:10]\n",
    "\n",
    "        Selisih = days_between(TanggalX, TanggalY)\n",
    "        rand_processed.at[i, 'Selisih'] = Selisih\n",
    "\n",
    "rand_processed = rand_processed.drop(columns=['tgldatang'])\n",
    "rand_processed = rand_processed.drop(columns=['tglpulang'])\n",
    "\n",
    "rand_processed.to_csv('selisih_completed.csv')\n"
   ]
  },
  {
   "cell_type": "code",
   "execution_count": 32,
   "metadata": {},
   "outputs": [],
   "source": [
    "rand_processed['jenkel'] = df['jenkel'].copy()"
   ]
  },
  {
   "cell_type": "code",
   "execution_count": 81,
   "metadata": {},
   "outputs": [
    {
     "data": {
      "text/plain": [
       "dati2            0\n",
       "typefaskes       0\n",
       "usia             0\n",
       "jenkel           0\n",
       "pisat            0\n",
       "jenispel         0\n",
       "politujuan       0\n",
       "diagfktp         0\n",
       "jenispulang      0\n",
       "cbg              0\n",
       "kelasrawat       0\n",
       "kdsa             0\n",
       "kdsp             0\n",
       "kdsr             0\n",
       "kdsi             0\n",
       "kdsd             0\n",
       "label            0\n",
       "biaya_bagi100    0\n",
       "Selisih          0\n",
       "dtype: int64"
      ]
     },
     "execution_count": 81,
     "metadata": {},
     "output_type": "execute_result"
    }
   ],
   "source": [
    "no_na.isna().sum()"
   ]
  },
  {
   "cell_type": "code",
   "execution_count": 80,
   "metadata": {},
   "outputs": [
    {
     "data": {
      "text/plain": [
       "None           11190211\n",
       "ZZZ              198670\n",
       "SF-4-10-II         4457\n",
       "SF-4-10-III        3587\n",
       "SF-4-10-I          1891\n",
       "SF-4-10-X          1142\n",
       "SF-4-10-IV          675\n",
       "SF-4-13-II          355\n",
       "SF-4-16-II          162\n",
       "SF-4-16-III         147\n",
       "SF-4-13-III         142\n",
       "SF-4-13-I           125\n",
       "SF-4-15-II           57\n",
       "SF-4-16-I            52\n",
       "SF-4-16-IV           45\n",
       "SF-4-15-III          24\n",
       "SF-4-13-IV           24\n",
       "SF-4-15-I            20\n",
       "SF-4-13-X            18\n",
       "SF-4-11-II           12\n",
       "SF-4-11-I            11\n",
       "SF-4-15-IV           10\n",
       "SF-4-16-X            10\n",
       "SF-4-19-II            7\n",
       "SF-4-11-III           6\n",
       "SF-4-19-I             5\n",
       "SA-4-14-X             3\n",
       "SF-4-19-III           3\n",
       "SA-4-14-I             3\n",
       "SF-4-11-IV            1\n",
       "SF-4-12-II            1\n",
       "SF-4-19-IV            1\n",
       "SA-4-14-II            1\n",
       "ST-4-11-II            1\n",
       "ST-1-10-III           1\n",
       "SF-4-18-I             1\n",
       "SF-4-15-X             1\n",
       "Name: kdsa, dtype: int64"
      ]
     },
     "execution_count": 80,
     "metadata": {},
     "output_type": "execute_result"
    }
   ],
   "source": [
    "no_na['kdsa'].value_counts()\n",
    "# no_na.isin(['ZZZ']).any()"
   ]
  },
  {
   "cell_type": "code",
   "execution_count": 79,
   "metadata": {},
   "outputs": [],
   "source": [
    "# Isi semua na\n",
    "no_na['jenkel'] = no_na['jenkel'].fillna(no_na['jenkel'].mode()[0])\n",
    "no_na['pisat'] = no_na['pisat'].fillna(no_na['pisat'].mode()[0])\n",
    "no_na['diagfktp'] = no_na['diagfktp'].fillna(no_na['diagfktp'].mode()[0])\n",
    "no_na['jenispulang'] = no_na['jenispulang'].fillna(no_na['jenispulang'].mode()[0])\n",
    "\n",
    "no_na['politujuan'] = no_na['politujuan'].fillna('ZZZ')\n",
    "no_na['kdsa'] = no_na['kdsa'].fillna('ZZZ')\n",
    "no_na['kdsp'] = no_na['kdsp'].fillna('ZZZZ')\n",
    "no_na['kdsr'] = no_na['kdsr'].fillna('ZZZZZ')\n",
    "no_na['kdsi'] = no_na['kdsi'].fillna('ZZZZZZ')\n",
    "no_na['kdsd'] = no_na['kdsd'].fillna('ZZZZZZZ')\n",
    "\n",
    "\n",
    "# no_na['biaya_bagi100'] = no_na['biaya_bagi100'].fillna(no_na['biaya_bagi100'].mean())\n",
    "# no_na['jenkel'].mode()[0]\n"
   ]
  },
  {
   "cell_type": "code",
   "execution_count": 82,
   "metadata": {},
   "outputs": [],
   "source": [
    "kategori_processed = no_na.copy()\n",
    "#rand_processed.isna().sum()\n",
    "\n",
    "kategori_processed.to_csv('kategori_processed.csv')"
   ]
  },
  {
   "cell_type": "code",
   "execution_count": 1,
   "metadata": {},
   "outputs": [],
   "source": [
    "# ==================== CHECKPOINT ====================\n",
    "import pandas as pd\n",
    "import numpy as np\n",
    "from sklearn.model_selection import train_test_split\n",
    "from sklearn.tree import DecisionTreeClassifier\n",
    "from sklearn.metrics import confusion_matrix\n",
    "from sklearn.preprocessing import OneHotEncoder\n",
    "from sklearn.ensemble import RandomForestClassifier\n",
    "from sklearn.svm import SVC\n",
    "from sklearn.preprocessing import LabelEncoder\n",
    "from sklearn.neighbors import KNeighborsClassifier\n",
    "\n",
    "kategori_processed = pd.read_csv('kategori_processed.csv')"
   ]
  },
  {
   "cell_type": "code",
   "execution_count": 2,
   "metadata": {},
   "outputs": [],
   "source": [
    "Pred = kategori_processed.drop(columns=['label'])\n",
    "\n",
    "# Pembagian Batch\n",
    "Batch1, Batch2, Batch3, Batch4, Batch5 = np.array_split(Pred, 5)"
   ]
  },
  {
   "cell_type": "code",
   "execution_count": 3,
   "metadata": {},
   "outputs": [
    {
     "name": "stderr",
     "output_type": "stream",
     "text": [
      "C:\\Users\\faris\\AppData\\Local\\Temp\\ipykernel_12292\\3145820988.py:8: FutureWarning: The frame.append method is deprecated and will be removed from pandas in a future version. Use pandas.concat instead.\n",
      "  satufull = satufull.append(satoversamp)\n"
     ]
    }
   ],
   "source": [
    "# Pembuatan data training\n",
    "\n",
    "satufull = kategori_processed.loc[kategori_processed['label'] == 1] # Pengambilan yang labelnya 1\n",
    "nolfull = kategori_processed.loc[kategori_processed['label'] == 0] # Pengambilan yang label 0\n",
    "\n",
    "satoversamp =  satufull.sample(frac =.7)\n",
    "\n",
    "satufull = satufull.append(satoversamp)\n",
    "\n",
    "jumsat = int(len(satufull))\n",
    "jumnol = int(len(nolfull)/5)\n",
    "satu = satufull.sample(n=(jumsat))\n",
    "nol = nolfull.sample(n=(jumnol)) # Pengambilan label 0 sejumlah banyaknya label 1\n",
    "\n"
   ]
  },
  {
   "cell_type": "code",
   "execution_count": 4,
   "metadata": {},
   "outputs": [
    {
     "data": {
      "text/plain": [
       "266711"
      ]
     },
     "execution_count": 4,
     "metadata": {},
     "output_type": "execute_result"
    }
   ],
   "source": [
    "len(satu)"
   ]
  },
  {
   "cell_type": "code",
   "execution_count": 5,
   "metadata": {},
   "outputs": [
    {
     "data": {
      "text/plain": [
       "2248998"
      ]
     },
     "execution_count": 5,
     "metadata": {},
     "output_type": "execute_result"
    }
   ],
   "source": [
    "len(nol)"
   ]
  },
  {
   "cell_type": "code",
   "execution_count": 6,
   "metadata": {},
   "outputs": [
    {
     "name": "stderr",
     "output_type": "stream",
     "text": [
      "C:\\Users\\faris\\AppData\\Local\\Temp\\ipykernel_12292\\2856880713.py:1: FutureWarning: The frame.append method is deprecated and will be removed from pandas in a future version. Use pandas.concat instead.\n",
      "  Train = nol.append(satu)\n"
     ]
    }
   ],
   "source": [
    "Train = nol.append(satu)\n",
    "Train = Train.sample(frac = 1)"
   ]
  },
  {
   "cell_type": "code",
   "execution_count": 7,
   "metadata": {},
   "outputs": [
    {
     "data": {
      "text/plain": [
       "2515709"
      ]
     },
     "execution_count": 7,
     "metadata": {},
     "output_type": "execute_result"
    }
   ],
   "source": [
    "len(Train)"
   ]
  },
  {
   "cell_type": "code",
   "execution_count": 8,
   "metadata": {},
   "outputs": [],
   "source": [
    "X = Train.drop(columns=['label'])\n",
    "y = Train.label\n",
    "\n",
    "X_train, X_test, y_train, y_test = train_test_split(X, y, test_size=0.3, random_state=42)"
   ]
  },
  {
   "cell_type": "code",
   "execution_count": null,
   "metadata": {},
   "outputs": [
    {
     "name": "stdout",
     "output_type": "stream",
     "text": [
      "1684120\n",
      "1684120\n"
     ]
    }
   ],
   "source": [
    "print(len(X_train_pre))\n",
    "print(len(y_train_pre))"
   ]
  },
  {
   "cell_type": "code",
   "execution_count": 100,
   "metadata": {},
   "outputs": [],
   "source": [
    "# Oversampling\n",
    "\n",
    "from imblearn.over_sampling import RandomOverSampler \n",
    "oversample = RandomOverSampler(sampling_strategy=0.1255671527)\n",
    "\n",
    "X_train, y_train = oversample.fit_resample(X_train_pre, y_train_pre)"
   ]
  },
  {
   "cell_type": "code",
   "execution_count": 9,
   "metadata": {},
   "outputs": [
    {
     "name": "stdout",
     "output_type": "stream",
     "text": [
      "1760996\n",
      "1760996\n"
     ]
    }
   ],
   "source": [
    "print(len(X_train))\n",
    "print(len(y_train))"
   ]
  },
  {
   "cell_type": "code",
   "execution_count": 10,
   "metadata": {},
   "outputs": [],
   "source": [
    "from catboost import CatBoostClassifier, Pool\n",
    "\n",
    "cb = CatBoostClassifier(n_estimators=700,\n",
    "                        loss_function='CrossEntropy',\n",
    "                        learning_rate=0.4375,\n",
    "                        depth=4, task_type='GPU',\n",
    "                        random_state=1,\n",
    "                        verbose=False)\n",
    "\n",
    "\n",
    "pool_train = Pool(X_train, y_train,\n",
    "                  cat_features = ['typefaskes', 'jenkel', 'politujuan', 'diagfktp', 'cbg', 'kdsa', 'kdsp', 'kdsr', 'kdsi', 'kdsd'])\n",
    "                  \n",
    "pool_test = Pool(X_test, cat_features = ['typefaskes', 'jenkel', 'politujuan', 'diagfktp', 'cbg', 'kdsa', 'kdsp', 'kdsr', 'kdsi', 'kdsd'])\n",
    "\n",
    "cb.fit(pool_train)\n",
    "y_pred = cb.predict(pool_test)\n"
   ]
  },
  {
   "cell_type": "code",
   "execution_count": 11,
   "metadata": {},
   "outputs": [],
   "source": [
    "Hasilpred = cb.predict(Pred)"
   ]
  },
  {
   "cell_type": "code",
   "execution_count": null,
   "metadata": {},
   "outputs": [],
   "source": [
    "# hehe = pd.read_csv('answerKojo.csv')\n",
    "# Hasilpred = hehe['label'].values.tolist()\n",
    "\n",
    "# print(Hasilpred)"
   ]
  },
  {
   "cell_type": "code",
   "execution_count": 13,
   "metadata": {},
   "outputs": [
    {
     "name": "stdout",
     "output_type": "stream",
     "text": [
      "Accuracy    : 0.9886302980507955 \n",
      "Precision   : 0.5786953885247321 \n",
      "Recall      : 0.6386935986589245 \n",
      "Specifity   : 0.9935125793319747\n",
      "ROC AUC     : 0.8161030889954496\n"
     ]
    }
   ],
   "source": [
    "from sklearn.metrics import roc_auc_score\n",
    "\n",
    "# Evaluation\n",
    "\n",
    "y_true = kategori_processed.label\n",
    "y_pred = Hasilpred  # List of your dataframes\n",
    "\n",
    "\n",
    "def check(true,pred)  :\n",
    "    tn, fp, fn, tp = confusion_matrix(true, pred).ravel()\n",
    "    Accuracy = (tn+tp) / (tn+fp+tp+fn)\n",
    "    Precision = tp/(tp+fp)\n",
    "    Recall = tp/(tp+fn)\n",
    "    Specifity = tn/(tn+fp)\n",
    "\n",
    "    print(\"Accuracy    :\", Accuracy, \"\\nPrecision   :\", Precision, \"\\nRecall      :\", Recall, \"\\nSpecifity   :\", Specifity)\n",
    "\n",
    "check(y_true,y_pred)\n",
    "\n",
    "print(\"ROC AUC     :\", roc_auc_score(y_true, y_pred))"
   ]
  },
  {
   "cell_type": "code",
   "execution_count": null,
   "metadata": {},
   "outputs": [
    {
     "name": "stdout",
     "output_type": "stream",
     "text": [
      "                id  label\n",
      "0           165666      0\n",
      "1          1010828      0\n",
      "2           166042      0\n",
      "3           168937      0\n",
      "4          1005899      0\n",
      "...            ...    ...\n",
      "11401877   9983563      0\n",
      "11401878  11053870      0\n",
      "11401879   7461049      0\n",
      "11401880   1075162      0\n",
      "11401881    102794      0\n",
      "\n",
      "[11401882 rows x 2 columns]\n"
     ]
    }
   ],
   "source": [
    "answer = pd.DataFrame()\n",
    "answer['id']= df['id']\n",
    "answer['label'] = y_pred\n",
    "\n",
    "print(answer)\n",
    "\n",
    "# Save ke csv\n",
    "answer.to_csv('answer.csv')"
   ]
  }
 ],
 "metadata": {
  "kernelspec": {
   "display_name": "Python 3.10.5 64-bit",
   "language": "python",
   "name": "python3"
  },
  "language_info": {
   "codemirror_mode": {
    "name": "ipython",
    "version": 3
   },
   "file_extension": ".py",
   "mimetype": "text/x-python",
   "name": "python",
   "nbconvert_exporter": "python",
   "pygments_lexer": "ipython3",
   "version": "3.10.5"
  },
  "orig_nbformat": 4,
  "vscode": {
   "interpreter": {
    "hash": "4a0531abcd9c922ceff5672ccd49a3b8884c2b6be504a35d6a99f045b5353c84"
   }
  }
 },
 "nbformat": 4,
 "nbformat_minor": 2
}
