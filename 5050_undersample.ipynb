{
 "cells": [
  {
   "cell_type": "code",
   "execution_count": 1,
   "metadata": {},
   "outputs": [],
   "source": [
    "# Pandas dibutuhkan untuk manipulasi dan transformasi data\n",
    "import pandas as pd\n",
    "\n",
    "# Sklearn digunakan untuk segala hal yang berhubungan dengan machine learning modeling\n",
    "# train_test_split : untuk membagi data train menjadi data untuk training dan validasi\n",
    "from sklearn.model_selection import train_test_split\n",
    "\n",
    "# DecisionTreeClassifier : contoh model yang digunakan disini yaitu Decision Tree\n",
    "from sklearn.tree import DecisionTreeClassifier\n",
    "\n",
    "from sklearn.metrics import confusion_matrix\n",
    "\n",
    "from sklearn.preprocessing import OneHotEncoder"
   ]
  },
  {
   "cell_type": "code",
   "execution_count": 2,
   "metadata": {},
   "outputs": [
    {
     "ename": "FileNotFoundError",
     "evalue": "[Errno 2] No such file or directory: 'sampling_healtkathon2022/sampling_healtkathon2022.csv'",
     "output_type": "error",
     "traceback": [
      "\u001b[1;31m---------------------------------------------------------------------------\u001b[0m",
      "\u001b[1;31mFileNotFoundError\u001b[0m                         Traceback (most recent call last)",
      "\u001b[1;32mc:\\Users\\faris\\Desktop\\Itebeh\\BPJS\\5050_undersample.ipynb Cell 2\u001b[0m in \u001b[0;36m<cell line: 2>\u001b[1;34m()\u001b[0m\n\u001b[0;32m      <a href='vscode-notebook-cell:/c%3A/Users/faris/Desktop/Itebeh/BPJS/5050_undersample.ipynb#W1sZmlsZQ%3D%3D?line=0'>1</a>\u001b[0m \u001b[39m# Data Preparation\u001b[39;00m\n\u001b[1;32m----> <a href='vscode-notebook-cell:/c%3A/Users/faris/Desktop/Itebeh/BPJS/5050_undersample.ipynb#W1sZmlsZQ%3D%3D?line=1'>2</a>\u001b[0m df \u001b[39m=\u001b[39m pd\u001b[39m.\u001b[39;49mread_csv(\u001b[39m'\u001b[39;49m\u001b[39msampling_healtkathon2022/sampling_healtkathon2022.csv\u001b[39;49m\u001b[39m'\u001b[39;49m)\n",
      "File \u001b[1;32mc:\\Users\\faris\\AppData\\Local\\Programs\\Python\\Python310\\lib\\site-packages\\pandas\\util\\_decorators.py:311\u001b[0m, in \u001b[0;36mdeprecate_nonkeyword_arguments.<locals>.decorate.<locals>.wrapper\u001b[1;34m(*args, **kwargs)\u001b[0m\n\u001b[0;32m    305\u001b[0m \u001b[39mif\u001b[39;00m \u001b[39mlen\u001b[39m(args) \u001b[39m>\u001b[39m num_allow_args:\n\u001b[0;32m    306\u001b[0m     warnings\u001b[39m.\u001b[39mwarn(\n\u001b[0;32m    307\u001b[0m         msg\u001b[39m.\u001b[39mformat(arguments\u001b[39m=\u001b[39marguments),\n\u001b[0;32m    308\u001b[0m         \u001b[39mFutureWarning\u001b[39;00m,\n\u001b[0;32m    309\u001b[0m         stacklevel\u001b[39m=\u001b[39mstacklevel,\n\u001b[0;32m    310\u001b[0m     )\n\u001b[1;32m--> 311\u001b[0m \u001b[39mreturn\u001b[39;00m func(\u001b[39m*\u001b[39margs, \u001b[39m*\u001b[39m\u001b[39m*\u001b[39mkwargs)\n",
      "File \u001b[1;32mc:\\Users\\faris\\AppData\\Local\\Programs\\Python\\Python310\\lib\\site-packages\\pandas\\io\\parsers\\readers.py:680\u001b[0m, in \u001b[0;36mread_csv\u001b[1;34m(filepath_or_buffer, sep, delimiter, header, names, index_col, usecols, squeeze, prefix, mangle_dupe_cols, dtype, engine, converters, true_values, false_values, skipinitialspace, skiprows, skipfooter, nrows, na_values, keep_default_na, na_filter, verbose, skip_blank_lines, parse_dates, infer_datetime_format, keep_date_col, date_parser, dayfirst, cache_dates, iterator, chunksize, compression, thousands, decimal, lineterminator, quotechar, quoting, doublequote, escapechar, comment, encoding, encoding_errors, dialect, error_bad_lines, warn_bad_lines, on_bad_lines, delim_whitespace, low_memory, memory_map, float_precision, storage_options)\u001b[0m\n\u001b[0;32m    665\u001b[0m kwds_defaults \u001b[39m=\u001b[39m _refine_defaults_read(\n\u001b[0;32m    666\u001b[0m     dialect,\n\u001b[0;32m    667\u001b[0m     delimiter,\n\u001b[1;32m   (...)\u001b[0m\n\u001b[0;32m    676\u001b[0m     defaults\u001b[39m=\u001b[39m{\u001b[39m\"\u001b[39m\u001b[39mdelimiter\u001b[39m\u001b[39m\"\u001b[39m: \u001b[39m\"\u001b[39m\u001b[39m,\u001b[39m\u001b[39m\"\u001b[39m},\n\u001b[0;32m    677\u001b[0m )\n\u001b[0;32m    678\u001b[0m kwds\u001b[39m.\u001b[39mupdate(kwds_defaults)\n\u001b[1;32m--> 680\u001b[0m \u001b[39mreturn\u001b[39;00m _read(filepath_or_buffer, kwds)\n",
      "File \u001b[1;32mc:\\Users\\faris\\AppData\\Local\\Programs\\Python\\Python310\\lib\\site-packages\\pandas\\io\\parsers\\readers.py:575\u001b[0m, in \u001b[0;36m_read\u001b[1;34m(filepath_or_buffer, kwds)\u001b[0m\n\u001b[0;32m    572\u001b[0m _validate_names(kwds\u001b[39m.\u001b[39mget(\u001b[39m\"\u001b[39m\u001b[39mnames\u001b[39m\u001b[39m\"\u001b[39m, \u001b[39mNone\u001b[39;00m))\n\u001b[0;32m    574\u001b[0m \u001b[39m# Create the parser.\u001b[39;00m\n\u001b[1;32m--> 575\u001b[0m parser \u001b[39m=\u001b[39m TextFileReader(filepath_or_buffer, \u001b[39m*\u001b[39m\u001b[39m*\u001b[39mkwds)\n\u001b[0;32m    577\u001b[0m \u001b[39mif\u001b[39;00m chunksize \u001b[39mor\u001b[39;00m iterator:\n\u001b[0;32m    578\u001b[0m     \u001b[39mreturn\u001b[39;00m parser\n",
      "File \u001b[1;32mc:\\Users\\faris\\AppData\\Local\\Programs\\Python\\Python310\\lib\\site-packages\\pandas\\io\\parsers\\readers.py:934\u001b[0m, in \u001b[0;36mTextFileReader.__init__\u001b[1;34m(self, f, engine, **kwds)\u001b[0m\n\u001b[0;32m    931\u001b[0m     \u001b[39mself\u001b[39m\u001b[39m.\u001b[39moptions[\u001b[39m\"\u001b[39m\u001b[39mhas_index_names\u001b[39m\u001b[39m\"\u001b[39m] \u001b[39m=\u001b[39m kwds[\u001b[39m\"\u001b[39m\u001b[39mhas_index_names\u001b[39m\u001b[39m\"\u001b[39m]\n\u001b[0;32m    933\u001b[0m \u001b[39mself\u001b[39m\u001b[39m.\u001b[39mhandles: IOHandles \u001b[39m|\u001b[39m \u001b[39mNone\u001b[39;00m \u001b[39m=\u001b[39m \u001b[39mNone\u001b[39;00m\n\u001b[1;32m--> 934\u001b[0m \u001b[39mself\u001b[39m\u001b[39m.\u001b[39m_engine \u001b[39m=\u001b[39m \u001b[39mself\u001b[39;49m\u001b[39m.\u001b[39;49m_make_engine(f, \u001b[39mself\u001b[39;49m\u001b[39m.\u001b[39;49mengine)\n",
      "File \u001b[1;32mc:\\Users\\faris\\AppData\\Local\\Programs\\Python\\Python310\\lib\\site-packages\\pandas\\io\\parsers\\readers.py:1218\u001b[0m, in \u001b[0;36mTextFileReader._make_engine\u001b[1;34m(self, f, engine)\u001b[0m\n\u001b[0;32m   1214\u001b[0m     mode \u001b[39m=\u001b[39m \u001b[39m\"\u001b[39m\u001b[39mrb\u001b[39m\u001b[39m\"\u001b[39m\n\u001b[0;32m   1215\u001b[0m \u001b[39m# error: No overload variant of \"get_handle\" matches argument types\u001b[39;00m\n\u001b[0;32m   1216\u001b[0m \u001b[39m# \"Union[str, PathLike[str], ReadCsvBuffer[bytes], ReadCsvBuffer[str]]\"\u001b[39;00m\n\u001b[0;32m   1217\u001b[0m \u001b[39m# , \"str\", \"bool\", \"Any\", \"Any\", \"Any\", \"Any\", \"Any\"\u001b[39;00m\n\u001b[1;32m-> 1218\u001b[0m \u001b[39mself\u001b[39m\u001b[39m.\u001b[39mhandles \u001b[39m=\u001b[39m get_handle(  \u001b[39m# type: ignore[call-overload]\u001b[39;49;00m\n\u001b[0;32m   1219\u001b[0m     f,\n\u001b[0;32m   1220\u001b[0m     mode,\n\u001b[0;32m   1221\u001b[0m     encoding\u001b[39m=\u001b[39;49m\u001b[39mself\u001b[39;49m\u001b[39m.\u001b[39;49moptions\u001b[39m.\u001b[39;49mget(\u001b[39m\"\u001b[39;49m\u001b[39mencoding\u001b[39;49m\u001b[39m\"\u001b[39;49m, \u001b[39mNone\u001b[39;49;00m),\n\u001b[0;32m   1222\u001b[0m     compression\u001b[39m=\u001b[39;49m\u001b[39mself\u001b[39;49m\u001b[39m.\u001b[39;49moptions\u001b[39m.\u001b[39;49mget(\u001b[39m\"\u001b[39;49m\u001b[39mcompression\u001b[39;49m\u001b[39m\"\u001b[39;49m, \u001b[39mNone\u001b[39;49;00m),\n\u001b[0;32m   1223\u001b[0m     memory_map\u001b[39m=\u001b[39;49m\u001b[39mself\u001b[39;49m\u001b[39m.\u001b[39;49moptions\u001b[39m.\u001b[39;49mget(\u001b[39m\"\u001b[39;49m\u001b[39mmemory_map\u001b[39;49m\u001b[39m\"\u001b[39;49m, \u001b[39mFalse\u001b[39;49;00m),\n\u001b[0;32m   1224\u001b[0m     is_text\u001b[39m=\u001b[39;49mis_text,\n\u001b[0;32m   1225\u001b[0m     errors\u001b[39m=\u001b[39;49m\u001b[39mself\u001b[39;49m\u001b[39m.\u001b[39;49moptions\u001b[39m.\u001b[39;49mget(\u001b[39m\"\u001b[39;49m\u001b[39mencoding_errors\u001b[39;49m\u001b[39m\"\u001b[39;49m, \u001b[39m\"\u001b[39;49m\u001b[39mstrict\u001b[39;49m\u001b[39m\"\u001b[39;49m),\n\u001b[0;32m   1226\u001b[0m     storage_options\u001b[39m=\u001b[39;49m\u001b[39mself\u001b[39;49m\u001b[39m.\u001b[39;49moptions\u001b[39m.\u001b[39;49mget(\u001b[39m\"\u001b[39;49m\u001b[39mstorage_options\u001b[39;49m\u001b[39m\"\u001b[39;49m, \u001b[39mNone\u001b[39;49;00m),\n\u001b[0;32m   1227\u001b[0m )\n\u001b[0;32m   1228\u001b[0m \u001b[39massert\u001b[39;00m \u001b[39mself\u001b[39m\u001b[39m.\u001b[39mhandles \u001b[39mis\u001b[39;00m \u001b[39mnot\u001b[39;00m \u001b[39mNone\u001b[39;00m\n\u001b[0;32m   1229\u001b[0m f \u001b[39m=\u001b[39m \u001b[39mself\u001b[39m\u001b[39m.\u001b[39mhandles\u001b[39m.\u001b[39mhandle\n",
      "File \u001b[1;32mc:\\Users\\faris\\AppData\\Local\\Programs\\Python\\Python310\\lib\\site-packages\\pandas\\io\\common.py:786\u001b[0m, in \u001b[0;36mget_handle\u001b[1;34m(path_or_buf, mode, encoding, compression, memory_map, is_text, errors, storage_options)\u001b[0m\n\u001b[0;32m    781\u001b[0m \u001b[39melif\u001b[39;00m \u001b[39misinstance\u001b[39m(handle, \u001b[39mstr\u001b[39m):\n\u001b[0;32m    782\u001b[0m     \u001b[39m# Check whether the filename is to be opened in binary mode.\u001b[39;00m\n\u001b[0;32m    783\u001b[0m     \u001b[39m# Binary mode does not support 'encoding' and 'newline'.\u001b[39;00m\n\u001b[0;32m    784\u001b[0m     \u001b[39mif\u001b[39;00m ioargs\u001b[39m.\u001b[39mencoding \u001b[39mand\u001b[39;00m \u001b[39m\"\u001b[39m\u001b[39mb\u001b[39m\u001b[39m\"\u001b[39m \u001b[39mnot\u001b[39;00m \u001b[39min\u001b[39;00m ioargs\u001b[39m.\u001b[39mmode:\n\u001b[0;32m    785\u001b[0m         \u001b[39m# Encoding\u001b[39;00m\n\u001b[1;32m--> 786\u001b[0m         handle \u001b[39m=\u001b[39m \u001b[39mopen\u001b[39;49m(\n\u001b[0;32m    787\u001b[0m             handle,\n\u001b[0;32m    788\u001b[0m             ioargs\u001b[39m.\u001b[39;49mmode,\n\u001b[0;32m    789\u001b[0m             encoding\u001b[39m=\u001b[39;49mioargs\u001b[39m.\u001b[39;49mencoding,\n\u001b[0;32m    790\u001b[0m             errors\u001b[39m=\u001b[39;49merrors,\n\u001b[0;32m    791\u001b[0m             newline\u001b[39m=\u001b[39;49m\u001b[39m\"\u001b[39;49m\u001b[39m\"\u001b[39;49m,\n\u001b[0;32m    792\u001b[0m         )\n\u001b[0;32m    793\u001b[0m     \u001b[39melse\u001b[39;00m:\n\u001b[0;32m    794\u001b[0m         \u001b[39m# Binary mode\u001b[39;00m\n\u001b[0;32m    795\u001b[0m         handle \u001b[39m=\u001b[39m \u001b[39mopen\u001b[39m(handle, ioargs\u001b[39m.\u001b[39mmode)\n",
      "\u001b[1;31mFileNotFoundError\u001b[0m: [Errno 2] No such file or directory: 'sampling_healtkathon2022/sampling_healtkathon2022.csv'"
     ]
    }
   ],
   "source": [
    "# Data Preparation\n",
    "df = pd.read_csv('sampling_healtkathon2022/sampling_healtkathon2022.csv')"
   ]
  },
  {
   "cell_type": "code",
   "execution_count": null,
   "metadata": {},
   "outputs": [
    {
     "name": "stdout",
     "output_type": "stream",
     "text": [
      "11401882\n",
      "7183932\n"
     ]
    }
   ],
   "source": [
    "# Data Cleaning\n",
    "\n",
    "# Penghapusan Row yang ada NULL VALUE\n",
    "TrueClean= df.dropna(how='any',axis=0) \n",
    "print(len(df))\n",
    "print(len(TrueClean))\n"
   ]
  },
  {
   "cell_type": "code",
   "execution_count": null,
   "metadata": {},
   "outputs": [],
   "source": [
    "# Duplikasi dataframe\n",
    "Pred = TrueClean.drop(columns=['label'])"
   ]
  },
  {
   "cell_type": "code",
   "execution_count": null,
   "metadata": {},
   "outputs": [],
   "source": [
    "# Pembuatan data training\n",
    "\n",
    "satu = TrueClean.loc[TrueClean['label'] == 1] # Pengambilan yang labelnya 1\n",
    "nolfull = TrueClean.loc[TrueClean['label'] == 0] # Pengambilan yang label 0\n",
    "\n",
    "\n",
    "\n",
    "nol = nolfull.sample(n=len(satu)) # Pengambilan label 0 sejumlah banyaknya label 1\n",
    "\n"
   ]
  },
  {
   "cell_type": "code",
   "execution_count": null,
   "metadata": {},
   "outputs": [],
   "source": [
    "rand_processed = satu.append(nol)\n",
    "rand_processed = rand_processed.drop('id', axis=1)\n",
    "gender_map = {\"L\":int(0), \"P\":int(1)}\n",
    "rand_processed.replace({\"jenkel\": gender_map}, inplace=True)\n",
    "rand_processed.replace({\"jenkel\": gender_map}, inplace=True)\n",
    "rand_processed = rand_processed.drop('tgldatang', axis=1)\n",
    "rand_processed = rand_processed.drop('tglpulang', axis=1)"
   ]
  },
  {
   "cell_type": "code",
   "execution_count": null,
   "metadata": {},
   "outputs": [],
   "source": [
    "ohe = OneHotEncoder(handle_unknown='ignore',sparse=False)\n",
    "rand_fixbet = ohe.fit_transform(rand_processed[['typefaskes']])\n",
    "rand_processed[ohe.categories_[0]] = rand_fixbet\n",
    "rand_processed = rand_processed.drop('typefaskes', axis=1)\n",
    "rand_processed"
   ]
  },
  {
   "cell_type": "code",
   "execution_count": null,
   "metadata": {},
   "outputs": [
    {
     "data": {
      "text/html": [
       "<div>\n",
       "<style scoped>\n",
       "    .dataframe tbody tr th:only-of-type {\n",
       "        vertical-align: middle;\n",
       "    }\n",
       "\n",
       "    .dataframe tbody tr th {\n",
       "        vertical-align: top;\n",
       "    }\n",
       "\n",
       "    .dataframe thead th {\n",
       "        text-align: right;\n",
       "    }\n",
       "</style>\n",
       "<table border=\"1\" class=\"dataframe\">\n",
       "  <thead>\n",
       "    <tr style=\"text-align: right;\">\n",
       "      <th></th>\n",
       "      <th>id</th>\n",
       "      <th>id_peserta</th>\n",
       "      <th>dati2</th>\n",
       "      <th>typefaskes</th>\n",
       "      <th>usia</th>\n",
       "      <th>jenkel</th>\n",
       "      <th>pisat</th>\n",
       "      <th>tgldatang</th>\n",
       "      <th>tglpulang</th>\n",
       "      <th>jenispel</th>\n",
       "      <th>...</th>\n",
       "      <th>biaya</th>\n",
       "      <th>jenispulang</th>\n",
       "      <th>cbg</th>\n",
       "      <th>kelasrawat</th>\n",
       "      <th>kdsa</th>\n",
       "      <th>kdsp</th>\n",
       "      <th>kdsr</th>\n",
       "      <th>kdsi</th>\n",
       "      <th>kdsd</th>\n",
       "      <th>label</th>\n",
       "    </tr>\n",
       "  </thead>\n",
       "  <tbody>\n",
       "    <tr>\n",
       "      <th>3161009</th>\n",
       "      <td>3316213</td>\n",
       "      <td>6809171</td>\n",
       "      <td>178</td>\n",
       "      <td>SD</td>\n",
       "      <td>51</td>\n",
       "      <td>L</td>\n",
       "      <td>5.0</td>\n",
       "      <td>2018-04-20T17:00:00.000Z</td>\n",
       "      <td>2018-04-20T17:00:00.000Z</td>\n",
       "      <td>2</td>\n",
       "      <td>...</td>\n",
       "      <td>737700.0</td>\n",
       "      <td>1.0</td>\n",
       "      <td>N-3-15-0</td>\n",
       "      <td>3</td>\n",
       "      <td>None</td>\n",
       "      <td>None</td>\n",
       "      <td>None</td>\n",
       "      <td>None</td>\n",
       "      <td>None</td>\n",
       "      <td>0</td>\n",
       "    </tr>\n",
       "    <tr>\n",
       "      <th>8749112</th>\n",
       "      <td>4962036</td>\n",
       "      <td>4729899</td>\n",
       "      <td>301</td>\n",
       "      <td>C</td>\n",
       "      <td>31</td>\n",
       "      <td>P</td>\n",
       "      <td>1.0</td>\n",
       "      <td>2018-01-14T17:00:00.000Z</td>\n",
       "      <td>2018-01-14T17:00:00.000Z</td>\n",
       "      <td>2</td>\n",
       "      <td>...</td>\n",
       "      <td>196900.0</td>\n",
       "      <td>1.0</td>\n",
       "      <td>Q-5-42-0</td>\n",
       "      <td>3</td>\n",
       "      <td>None</td>\n",
       "      <td>None</td>\n",
       "      <td>None</td>\n",
       "      <td>None</td>\n",
       "      <td>None</td>\n",
       "      <td>1</td>\n",
       "    </tr>\n",
       "    <tr>\n",
       "      <th>8300914</th>\n",
       "      <td>6204949</td>\n",
       "      <td>5135336</td>\n",
       "      <td>90</td>\n",
       "      <td>I3</td>\n",
       "      <td>7</td>\n",
       "      <td>L</td>\n",
       "      <td>4.0</td>\n",
       "      <td>2018-01-01T17:00:00.000Z</td>\n",
       "      <td>2018-01-01T17:00:00.000Z</td>\n",
       "      <td>2</td>\n",
       "      <td>...</td>\n",
       "      <td>184300.0</td>\n",
       "      <td>1.0</td>\n",
       "      <td>Q-5-42-0</td>\n",
       "      <td>3</td>\n",
       "      <td>None</td>\n",
       "      <td>None</td>\n",
       "      <td>None</td>\n",
       "      <td>None</td>\n",
       "      <td>None</td>\n",
       "      <td>1</td>\n",
       "    </tr>\n",
       "    <tr>\n",
       "      <th>11348639</th>\n",
       "      <td>2441843</td>\n",
       "      <td>5437637</td>\n",
       "      <td>134</td>\n",
       "      <td>SC</td>\n",
       "      <td>26</td>\n",
       "      <td>L</td>\n",
       "      <td>4.0</td>\n",
       "      <td>2020-08-16T17:00:00.000Z</td>\n",
       "      <td>2020-08-16T17:00:00.000Z</td>\n",
       "      <td>2</td>\n",
       "      <td>...</td>\n",
       "      <td>132900.0</td>\n",
       "      <td>1.0</td>\n",
       "      <td>Q-5-40-0</td>\n",
       "      <td>3</td>\n",
       "      <td>None</td>\n",
       "      <td>None</td>\n",
       "      <td>None</td>\n",
       "      <td>None</td>\n",
       "      <td>None</td>\n",
       "      <td>0</td>\n",
       "    </tr>\n",
       "    <tr>\n",
       "      <th>10163639</th>\n",
       "      <td>4063732</td>\n",
       "      <td>7229133</td>\n",
       "      <td>27</td>\n",
       "      <td>B</td>\n",
       "      <td>39</td>\n",
       "      <td>P</td>\n",
       "      <td>1.0</td>\n",
       "      <td>2019-03-31T17:00:00.000Z</td>\n",
       "      <td>2019-03-31T17:00:00.000Z</td>\n",
       "      <td>2</td>\n",
       "      <td>...</td>\n",
       "      <td>198900.0</td>\n",
       "      <td>1.0</td>\n",
       "      <td>F-5-14-0</td>\n",
       "      <td>3</td>\n",
       "      <td>None</td>\n",
       "      <td>None</td>\n",
       "      <td>None</td>\n",
       "      <td>None</td>\n",
       "      <td>None</td>\n",
       "      <td>1</td>\n",
       "    </tr>\n",
       "  </tbody>\n",
       "</table>\n",
       "<p>5 rows × 22 columns</p>\n",
       "</div>"
      ],
      "text/plain": [
       "               id  id_peserta  dati2 typefaskes  usia jenkel  pisat  \\\n",
       "3161009   3316213     6809171    178         SD    51      L    5.0   \n",
       "8749112   4962036     4729899    301          C    31      P    1.0   \n",
       "8300914   6204949     5135336     90         I3     7      L    4.0   \n",
       "11348639  2441843     5437637    134         SC    26      L    4.0   \n",
       "10163639  4063732     7229133     27          B    39      P    1.0   \n",
       "\n",
       "                         tgldatang                 tglpulang  jenispel  ...  \\\n",
       "3161009   2018-04-20T17:00:00.000Z  2018-04-20T17:00:00.000Z         2  ...   \n",
       "8749112   2018-01-14T17:00:00.000Z  2018-01-14T17:00:00.000Z         2  ...   \n",
       "8300914   2018-01-01T17:00:00.000Z  2018-01-01T17:00:00.000Z         2  ...   \n",
       "11348639  2020-08-16T17:00:00.000Z  2020-08-16T17:00:00.000Z         2  ...   \n",
       "10163639  2019-03-31T17:00:00.000Z  2019-03-31T17:00:00.000Z         2  ...   \n",
       "\n",
       "             biaya jenispulang       cbg  kelasrawat  kdsa  kdsp  kdsr  kdsi  \\\n",
       "3161009   737700.0         1.0  N-3-15-0           3  None  None  None  None   \n",
       "8749112   196900.0         1.0  Q-5-42-0           3  None  None  None  None   \n",
       "8300914   184300.0         1.0  Q-5-42-0           3  None  None  None  None   \n",
       "11348639  132900.0         1.0  Q-5-40-0           3  None  None  None  None   \n",
       "10163639  198900.0         1.0  F-5-14-0           3  None  None  None  None   \n",
       "\n",
       "          kdsd label  \n",
       "3161009   None     0  \n",
       "8749112   None     1  \n",
       "8300914   None     1  \n",
       "11348639  None     0  \n",
       "10163639  None     1  \n",
       "\n",
       "[5 rows x 22 columns]"
      ]
     },
     "execution_count": 9,
     "metadata": {},
     "output_type": "execute_result"
    }
   ],
   "source": [
    "Train = rand_processed\n",
    "Train = Train.sample(frac = 1)\n",
    "Train.head()"
   ]
  },
  {
   "cell_type": "code",
   "execution_count": null,
   "metadata": {},
   "outputs": [
    {
     "name": "stdout",
     "output_type": "stream",
     "text": [
      "<class 'pandas.core.frame.DataFrame'>\n",
      "61846\n",
      "123692\n"
     ]
    }
   ],
   "source": [
    "print(type(nol))\n",
    "print(len(satu))\n",
    "print(len(Train))"
   ]
  },
  {
   "cell_type": "code",
   "execution_count": null,
   "metadata": {},
   "outputs": [],
   "source": [
    "X = Train.drop(columns=['label'])\n",
    "y = Train.label\n",
    "\n",
    "X_train, X_test, y_train, y_test = train_test_split(X, y, test_size=0.3, random_state=42)"
   ]
  },
  {
   "cell_type": "code",
   "execution_count": null,
   "metadata": {},
   "outputs": [],
   "source": [
    "# Evaluation\n",
    "\n",
    "y_true = [1,1,1,1,1,1,1,1,1,1]\n",
    "y_pred = [0,1,1,1,1,1,1,1,1,1]\n",
    "\n",
    "\n",
    "def check(true,pred)  :\n",
    "    tn, fp, fn, tp = confusion_matrix(true, pred).ravel()\n",
    "    Accuracy = (tn+tp) / (tn+fp+tp+fn)\n",
    "    Precision = tp/(tp+fp)\n",
    "    Recall = tp/(tp+fn)\n",
    "    Specifity = tn/(tn+fp)  \n",
    "\n",
    "    print(\"Accuracy    :\", Accuracy, \"\\nPrecision   :\", Precision, \"\\nRecall      :\", Recall, \"\\nSpecifity   :\", Specifity)\n",
    "\n",
    "\n",
    "check(y_true,y_pred)\n",
    "\n"
   ]
  }
 ],
 "metadata": {
  "kernelspec": {
   "display_name": "Python 3.10.5 64-bit",
   "language": "python",
   "name": "python3"
  },
  "language_info": {
   "codemirror_mode": {
    "name": "ipython",
    "version": 3
   },
   "file_extension": ".py",
   "mimetype": "text/x-python",
   "name": "python",
   "nbconvert_exporter": "python",
   "pygments_lexer": "ipython3",
   "version": "3.10.5"
  },
  "orig_nbformat": 4,
  "vscode": {
   "interpreter": {
    "hash": "4a0531abcd9c922ceff5672ccd49a3b8884c2b6be504a35d6a99f045b5353c84"
   }
  }
 },
 "nbformat": 4,
 "nbformat_minor": 2
}
