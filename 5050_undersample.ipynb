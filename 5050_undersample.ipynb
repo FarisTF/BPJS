{
 "cells": [
  {
   "cell_type": "code",
   "execution_count": null,
   "metadata": {},
   "outputs": [],
   "source": [
    "# Pandas dibutuhkan untuk manipulasi dan transformasi data\n",
    "import pandas as pd\n",
    "\n",
    "# Sklearn digunakan untuk segala hal yang berhubungan dengan machine learning modeling\n",
    "# train_test_split : untuk membagi data train menjadi data untuk training dan validasi\n",
    "from sklearn.model_selection import train_test_split\n",
    "\n",
    "# DecisionTreeClassifier : contoh model yang digunakan disini yaitu Decision Tree\n",
    "from sklearn.tree import DecisionTreeClassifier\n",
    "\n",
    "# accuracy_score : metrik validasi untuk menentukan seberapa akurat model yang dibuat\n",
    "from sklearn.metrics import accuracy_score"
   ]
  },
  {
   "cell_type": "code",
   "execution_count": null,
   "metadata": {},
   "outputs": [],
   "source": [
    "print('Hello World')"
   ]
  },
  {
   "cell_type": "code",
   "execution_count": null,
   "metadata": {},
   "outputs": [],
   "source": [
    "train = pd.read_csv('sampling_healtkathon2022/sampling_healtkathon2022.csv')\n",
    "train.head()"
   ]
  },
  {
   "cell_type": "code",
   "execution_count": null,
   "metadata": {},
   "outputs": [],
   "source": [
    "len(train)\n",
    "len(satu)"
   ]
  },
  {
   "cell_type": "code",
   "execution_count": null,
   "metadata": {},
   "outputs": [],
   "source": [
    "satu = train.loc[train['label'] == 1]\n",
    "satu"
   ]
  },
  {
   "cell_type": "code",
   "execution_count": null,
   "metadata": {},
   "outputs": [],
   "source": [
    "nolfull = train.loc[train['label'] == 0]\n",
    "len(nolfull)"
   ]
  },
  {
   "cell_type": "code",
   "execution_count": null,
   "metadata": {},
   "outputs": [],
   "source": [
    "nol = nolfull.sample(n=len(satu))\n",
    "nol"
   ]
  },
  {
   "cell_type": "code",
   "execution_count": null,
   "metadata": {},
   "outputs": [],
   "source": [
    "full = satu.append(nol)\n",
    "full"
   ]
  },
  {
   "cell_type": "code",
   "execution_count": null,
   "metadata": {},
   "outputs": [],
   "source": [
    "randfull = full.sample(frac=1)\n",
    "randfull"
   ]
  }
 ],
 "metadata": {
  "kernelspec": {
   "display_name": "Python 3.8.5 ('base')",
   "language": "python",
   "name": "python3"
  },
  "language_info": {
   "codemirror_mode": {
    "name": "ipython",
    "version": 3
   },
   "file_extension": ".py",
   "mimetype": "text/x-python",
   "name": "python",
   "nbconvert_exporter": "python",
   "pygments_lexer": "ipython3",
   "version": "3.8.5"
  },
  "orig_nbformat": 4,
  "vscode": {
   "interpreter": {
    "hash": "ce32528f28f35f3e48a390bf46a3eeb7134b8e67a4621069ef97d501cad4dd8f"
   }
  }
 },
 "nbformat": 4,
 "nbformat_minor": 2
}
