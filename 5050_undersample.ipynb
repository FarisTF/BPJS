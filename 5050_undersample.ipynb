{
 "cells": [
  {
   "cell_type": "code",
   "execution_count": null,
   "metadata": {},
   "outputs": [],
   "source": [
    "# Pandas dibutuhkan untuk manipulasi dan transformasi data\n",
    "import pandas as pd\n",
    "\n",
    "import numpy as np\n",
    "# Sklearn digunakan untuk segala hal yang berhubungan dengan machine learning modeling\n",
    "# train_test_split : untuk membagi data train menjadi data untuk training dan validasi\n",
    "from sklearn.model_selection import train_test_split\n",
    "\n",
    "# DecisionTreeClassifier : contoh model yang digunakan disini yaitu Decision Tree\n",
    "from sklearn.tree import DecisionTreeClassifier\n",
    "\n",
    "from sklearn.metrics import confusion_matrix\n",
    "\n",
    "from sklearn.preprocessing import OneHotEncoder\n",
    "\n",
    "from sklearn.ensemble import RandomForestClassifier\n",
    "\n",
    "from sklearn.svm import SVC"
   ]
  },
  {
   "cell_type": "code",
   "execution_count": null,
   "metadata": {},
   "outputs": [],
   "source": [
    "# Data Preparation\n",
    "df = pd.read_csv('sampling_healtkathon2022/sampling_healtkathon2022.csv')"
   ]
  },
  {
   "cell_type": "code",
   "execution_count": null,
   "metadata": {},
   "outputs": [],
   "source": [
    "\n",
    "rand_processed = df\n",
    "rand_processed = rand_processed.drop('id', axis=1)\n",
    "gender_map = {\"L\":int(0), \"P\":int(1)}\n",
    "rand_processed.replace({\"jenkel\": gender_map}, inplace=True)\n",
    "rand_processed = rand_processed.drop('tgldatang', axis=1)\n",
    "rand_processed = rand_processed.drop('tglpulang', axis=1)"
   ]
  },
  {
   "cell_type": "code",
   "execution_count": null,
   "metadata": {},
   "outputs": [],
   "source": [
    "ohe = OneHotEncoder(handle_unknown='ignore',sparse=False)\n",
    "rand_fixbet = ohe.fit_transform(rand_processed[['typefaskes']])\n",
    "rand_processed[ohe.categories_[0]] = rand_fixbet\n",
    "rand_processed = rand_processed.drop('typefaskes', axis=1)\n",
    "rand_processed"
   ]
  },
  {
   "cell_type": "code",
   "execution_count": null,
   "metadata": {},
   "outputs": [],
   "source": [
    "Pred = rand_processed.drop(columns=['label'])\n"
   ]
  },
  {
   "cell_type": "code",
   "execution_count": null,
   "metadata": {},
   "outputs": [],
   "source": [
    "Pred = Pred.fillna(0)"
   ]
  },
  {
   "cell_type": "code",
   "execution_count": null,
   "metadata": {},
   "outputs": [],
   "source": [
    "Pred = Pred.select_dtypes(exclude=['object'])"
   ]
  },
  {
   "cell_type": "code",
   "execution_count": null,
   "metadata": {},
   "outputs": [],
   "source": [
    "# Data Cleaning\n",
    "\n",
    "# Penghapusan Row yang ada NULL VALUE\n",
    "TrueClean= rand_processed.dropna(how='any',axis=0) \n",
    "print(len(df))\n",
    "print(len(TrueClean))\n",
    "\n"
   ]
  },
  {
   "cell_type": "code",
   "execution_count": null,
   "metadata": {},
   "outputs": [],
   "source": [
    "# Pembuatan data training\n",
    "\n",
    "satu = TrueClean.loc[TrueClean['label'] == 1] # Pengambilan yang labelnya 1\n",
    "nolfull = TrueClean.loc[TrueClean['label'] == 0] # Pengambilan yang label 0\n",
    "\n",
    "nol = nolfull.sample(n=len(satu)) # Pengambilan label 0 sejumlah banyaknya label 1\n",
    "\n"
   ]
  },
  {
   "cell_type": "code",
   "execution_count": null,
   "metadata": {},
   "outputs": [],
   "source": [
    "Train = nol.append(satu)\n",
    "Train = Train.sample(frac = 1)\n",
    "Train = Train.select_dtypes(exclude=['object'])"
   ]
  },
  {
   "cell_type": "code",
   "execution_count": null,
   "metadata": {},
   "outputs": [],
   "source": [
    "Train.info()\n",
    "Pred.info()\n",
    "\n",
    "Pred = Pred.drop(columns=['index'])"
   ]
  },
  {
   "cell_type": "code",
   "execution_count": null,
   "metadata": {},
   "outputs": [],
   "source": [
    "print(len(nol))\n",
    "print(len(satu))\n",
    "print(len(Train))"
   ]
  },
  {
   "cell_type": "code",
   "execution_count": null,
   "metadata": {},
   "outputs": [],
   "source": [
    "X = Train.drop(columns=['label'])\n",
    "y = Train.label\n",
    "\n",
    "X_train, X_test, y_train, y_test = train_test_split(X, y, test_size=0.3, random_state=42)"
   ]
  },
  {
   "cell_type": "code",
   "execution_count": null,
   "metadata": {},
   "outputs": [],
   "source": [
    "svc = SVC(probability = True)\n",
    "svc = svc.fit(X_train, y_train)"
   ]
  },
  {
   "cell_type": "code",
   "execution_count": 82,
   "metadata": {},
   "outputs": [],
   "source": [
    "Hasilpred = svc.predict(Pred)"
   ]
  },
  {
   "cell_type": "code",
   "execution_count": null,
   "metadata": {},
   "outputs": [],
   "source": [
    "rf = RandomForestClassifier(random_state = 1)\n",
    "rf = rf.fit(X_train, y_train)"
   ]
  },
  {
   "cell_type": "code",
   "execution_count": null,
   "metadata": {},
   "outputs": [],
   "source": [
    "Hasilpred = rf.predict(Pred)"
   ]
  },
  {
   "cell_type": "code",
   "execution_count": null,
   "metadata": {},
   "outputs": [],
   "source": [
    "clf = DecisionTreeClassifier()\n",
    "clf = clf.fit(X_train, y_train)"
   ]
  },
  {
   "cell_type": "code",
   "execution_count": null,
   "metadata": {},
   "outputs": [],
   "source": [
    "Hasilpred = clf.predict(Pred)"
   ]
  },
  {
   "cell_type": "code",
   "execution_count": null,
   "metadata": {},
   "outputs": [],
   "source": [
    "# Evaluation\n",
    "\n",
    "y_true = rand_processed.label\n",
    "y_pred = Hasilpred\n",
    "\n",
    "\n",
    "def check(true,pred)  :\n",
    "    tn, fp, fn, tp = confusion_matrix(true, pred).ravel()\n",
    "    Accuracy = (tn+tp) / (tn+fp+tp+fn)\n",
    "    Precision = tp/(tp+fp)\n",
    "    Recall = tp/(tp+fn)\n",
    "    Specifity = tn/(tn+fp)  \n",
    "\n",
    "    print(\"Accuracy    :\", Accuracy, \"\\nPrecision   :\", Precision, \"\\nRecall      :\", Recall, \"\\nSpecifity   :\", Specifity)\n",
    "\n",
    "\n",
    "check(y_true,y_pred)\n",
    "\n"
   ]
  }
 ],
 "metadata": {
  "kernelspec": {
   "display_name": "Python 3.8.5 ('base')",
   "language": "python",
   "name": "python3"
  },
  "language_info": {
   "codemirror_mode": {
    "name": "ipython",
    "version": 3
   },
   "file_extension": ".py",
   "mimetype": "text/x-python",
   "name": "python",
   "nbconvert_exporter": "python",
   "pygments_lexer": "ipython3",
   "version": "3.8.5"
  },
  "orig_nbformat": 4,
  "vscode": {
   "interpreter": {
    "hash": "ce32528f28f35f3e48a390bf46a3eeb7134b8e67a4621069ef97d501cad4dd8f"
   }
  }
 },
 "nbformat": 4,
 "nbformat_minor": 2
}
