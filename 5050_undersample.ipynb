{
 "cells": [
  {
   "cell_type": "code",
   "execution_count": null,
   "metadata": {},
   "outputs": [],
   "source": [
    "# Pandas dibutuhkan untuk manipulasi dan transformasi data\n",
    "import pandas as pd\n",
    "\n",
    "import numpy as np\n",
    "# Sklearn digunakan untuk segala hal yang berhubungan dengan machine learning modeling\n",
    "# train_test_split : untuk membagi data train menjadi data untuk training dan validasi\n",
    "from sklearn.model_selection import train_test_split\n",
    "\n",
    "# DecisionTreeClassifier : contoh model yang digunakan disini yaitu Decision Tree\n",
    "from sklearn.tree import DecisionTreeClassifier\n",
    "\n",
    "from sklearn.metrics import confusion_matrix\n",
    "\n",
    "from sklearn.preprocessing import OneHotEncoder\n",
    "\n",
    "from sklearn.ensemble import RandomForestClassifier\n",
    "\n",
    "from sklearn.svm import SVC\n",
    "\n",
    "from sklearn.preprocessing import LabelEncoder"
   ]
  },
  {
   "cell_type": "code",
   "execution_count": null,
   "metadata": {},
   "outputs": [],
   "source": [
    "from datetime import datetime\n",
    "\n",
    "def days_between(d1, d2):\n",
    "    d1 = datetime.strptime(d1, \"%Y-%m-%d\")\n",
    "    d2 = datetime.strptime(d2, \"%Y-%m-%d\")\n",
    "    return abs((d2 - d1).days)\n"
   ]
  },
  {
   "cell_type": "code",
   "execution_count": null,
   "metadata": {},
   "outputs": [],
   "source": [
    "# Data Preparation\n",
    "df = pd.read_csv('sampling_healtkathon2022/sampling_healtkathon2022.csv')"
   ]
  },
  {
   "cell_type": "code",
   "execution_count": null,
   "metadata": {},
   "outputs": [],
   "source": [
    "rand_processed = df"
   ]
  },
  {
   "cell_type": "code",
   "execution_count": null,
   "metadata": {},
   "outputs": [],
   "source": [
    "# Bikin labelencoder\n",
    "labelencoder = LabelEncoder()\n",
    "\n",
    "# Ngelabel encoding\n",
    "rand_processed['jenkel_cat'] = labelencoder.fit_transform(rand_processed['jenkel'])\n",
    "\n",
    "rand_processed['politujuan_cat'] = labelencoder.fit_transform(rand_processed['politujuan'])\n",
    "rand_processed['typefaskes_cat'] = labelencoder.fit_transform(rand_processed['typefaskes'])\n",
    "rand_processed['cbg_cat'] = labelencoder.fit_transform(rand_processed['cbg'])\n",
    "rand_processed['diagfktp_cat'] = labelencoder.fit_transform(rand_processed['diagfktp'])\n",
    "\n",
    "rand_processed['kdsa_cat'] = labelencoder.fit_transform(rand_processed['kdsa'])\n",
    "rand_processed['kdsp_cat'] = labelencoder.fit_transform(rand_processed['kdsp'])\n",
    "rand_processed['kdsr_cat'] = labelencoder.fit_transform(rand_processed['kdsr'])\n",
    "rand_processed['kdsi_cat'] = labelencoder.fit_transform(rand_processed['kdsi'])\n",
    "rand_processed['kdsd_cat'] = labelencoder.fit_transform(rand_processed['kdsd'])\n",
    "\n",
    "# Drop semua yang gak dibutuhin\n",
    "rand_processed = rand_processed.drop(columns=['id'])\n",
    "rand_processed = rand_processed.drop(columns=['id_peserta'])\n",
    "\n",
    "rand_processed = rand_processed.drop(columns=['jenkel'])\n",
    "\n",
    "rand_processed = rand_processed.drop(columns=['politujuan'])\n",
    "rand_processed = rand_processed.drop(columns=['typefaskes'])\n",
    "rand_processed = rand_processed.drop(columns=['cbg'])\n",
    "rand_processed = rand_processed.drop(columns=['diagfktp'])\n",
    "\n",
    "rand_processed = rand_processed.drop(columns=['kdsa'])\n",
    "rand_processed = rand_processed.drop(columns=['kdsp'])\n",
    "rand_processed = rand_processed.drop(columns=['kdsr'])\n",
    "rand_processed = rand_processed.drop(columns=['kdsi'])\n",
    "rand_processed = rand_processed.drop(columns=['kdsd'])\n",
    "\n",
    "# Drop semua yang gak dibutuhin\n",
    "rand_processed['biaya_bagi100'] = rand_processed['biaya']/100\n",
    "rand_processed = rand_processed.drop(columns=['biaya'])\n",
    "\n",
    "rand_processed"
   ]
  },
  {
   "cell_type": "code",
   "execution_count": null,
   "metadata": {},
   "outputs": [],
   "source": [
    "# Isi semua na\n",
    "no_na = rand_processed\n",
    "no_na['biaya_bagi100'] = no_na['biaya_bagi100'].fillna(no_na['biaya_bagi100'].mean())\n",
    "no_na = no_na.fillna(0)\n",
    "\n",
    "no_na"
   ]
  },
  {
   "cell_type": "code",
   "execution_count": null,
   "metadata": {},
   "outputs": [],
   "source": [
    "no_na[\"Selisih\"] = \" \"\n",
    "\n",
    "for i in range(len(no_na)) :\n",
    "     \n",
    "    x = no_na.iloc[i]['tgldatang']\n",
    "    y = no_na.iloc[i]['tglpulang']\n",
    "\n",
    "    if x == y :\n",
    "        no_na.at[i,'Selisih'] = 0\n",
    "\n",
    "    else :\n",
    "\n",
    "        TanggalX = x[0:10]\n",
    "        TanggalY = y[0:10]\n",
    "\n",
    "        Selisih = days_between(TanggalX, TanggalY)\n",
    "        no_na.at[i, 'Selisih'] = Selisih\n",
    "\n"
   ]
  },
  {
   "cell_type": "code",
   "execution_count": null,
   "metadata": {},
   "outputs": [],
   "source": [
    "no_na.describe()\n",
    "#rand_processed.isna().sum()"
   ]
  },
  {
   "cell_type": "code",
   "execution_count": null,
   "metadata": {},
   "outputs": [],
   "source": [
    "Pred = no_na.drop(columns=['label'])\n"
   ]
  },
  {
   "cell_type": "code",
   "execution_count": null,
   "metadata": {},
   "outputs": [],
   "source": [
    "Pred = Pred.select_dtypes(exclude=['object'])"
   ]
  },
  {
   "cell_type": "code",
   "execution_count": null,
   "metadata": {},
   "outputs": [],
   "source": [
    "# Pembagian Batch\n",
    "\n",
    "Batch1, Batch2, Batch3, Batch4, Batch5 = np.array_split(Pred, 5)"
   ]
  },
  {
   "cell_type": "code",
   "execution_count": null,
   "metadata": {},
   "outputs": [],
   "source": [
    "# Pembuatan data training\n",
    "\n",
    "satu = no_na.loc[no_na['label'] == 1] # Pengambilan yang labelnya 1\n",
    "nolfull = no_na.loc[no_na['label'] == 0] # Pengambilan yang label 0\n",
    "\n",
    "nol = nolfull.sample(n=len(satu)) # Pengambilan label 0 sejumlah banyaknya label 1\n",
    "\n"
   ]
  },
  {
   "cell_type": "code",
   "execution_count": null,
   "metadata": {},
   "outputs": [],
   "source": [
    "Train = nol.append(satu)\n",
    "Train = Train.sample(frac = 1)\n",
    "Train = Train.select_dtypes(exclude=['object'])"
   ]
  },
  {
   "cell_type": "code",
   "execution_count": null,
   "metadata": {},
   "outputs": [],
   "source": [
    "X = Train.drop(columns=['label'])\n",
    "y = Train.label\n",
    "\n",
    "X_train, X_test, y_train, y_test = train_test_split(X, y, test_size=0.3, random_state=42)"
   ]
  },
  {
   "cell_type": "code",
   "execution_count": null,
   "metadata": {},
   "outputs": [],
   "source": [
    "# svc = SVC(probability = True)\n",
    "# svc = svc.fit(X_train, y_train)"
   ]
  },
  {
   "cell_type": "code",
   "execution_count": null,
   "metadata": {},
   "outputs": [],
   "source": [
    "# Hasilpred = svc.predict(Pred)"
   ]
  },
  {
   "cell_type": "code",
   "execution_count": null,
   "metadata": {},
   "outputs": [],
   "source": [
    "# rf = RandomForestClassifier(random_state = 1)\n",
    "# rf = rf.fit(X_train, y_train)"
   ]
  },
  {
   "cell_type": "code",
   "execution_count": null,
   "metadata": {},
   "outputs": [],
   "source": [
    "# Hasilpred = rf.predict(Pred)"
   ]
  },
  {
   "cell_type": "code",
   "execution_count": null,
   "metadata": {},
   "outputs": [],
   "source": [
    "clf = DecisionTreeClassifier()\n",
    "clf = clf.fit(X_train, y_train)"
   ]
  },
  {
   "cell_type": "code",
   "execution_count": null,
   "metadata": {},
   "outputs": [],
   "source": [
    "Hasilpred1 = clf.predict(Batch1)"
   ]
  },
  {
   "cell_type": "code",
   "execution_count": null,
   "metadata": {},
   "outputs": [],
   "source": [
    "Hasilpred2 = clf.predict(Batch2)"
   ]
  },
  {
   "cell_type": "code",
   "execution_count": null,
   "metadata": {},
   "outputs": [],
   "source": [
    "Hasilpred3 = clf.predict(Batch3)"
   ]
  },
  {
   "cell_type": "code",
   "execution_count": null,
   "metadata": {},
   "outputs": [],
   "source": [
    "Hasilpred4 = clf.predict(Batch4)"
   ]
  },
  {
   "cell_type": "code",
   "execution_count": null,
   "metadata": {},
   "outputs": [],
   "source": [
    "Hasilpred5 = clf.predict(Batch5)"
   ]
  },
  {
   "cell_type": "code",
   "execution_count": null,
   "metadata": {},
   "outputs": [],
   "source": [
    "# Evaluation\n",
    "\n",
    "y_true = rand_processed.label\n",
    "y_pred = Hasilpred1 + Hasilpred2 + Hasilpred3 + Hasilpred4 + Hasilpred5\n",
    "\n",
    "\n",
    "def check(true,pred)  :\n",
    "    tn, fp, fn, tp = confusion_matrix(true, pred).ravel()\n",
    "    Accuracy = (tn+tp) / (tn+fp+tp+fn)\n",
    "    Precision = tp/(tp+fp)\n",
    "    Recall = tp/(tp+fn)\n",
    "    Specifity = tn/(tn+fp)  \n",
    "\n",
    "    print(\"Accuracy    :\", Accuracy, \"\\nPrecision   :\", Precision, \"\\nRecall      :\", Recall, \"\\nSpecifity   :\", Specifity)\n",
    "\n",
    "\n",
    "check(y_true,y_pred)\n",
    "\n"
   ]
  }
 ],
 "metadata": {
  "kernelspec": {
   "display_name": "Python 3.10.6 64-bit",
   "language": "python",
   "name": "python3"
  },
  "language_info": {
   "codemirror_mode": {
    "name": "ipython",
    "version": 3
   },
   "file_extension": ".py",
   "mimetype": "text/x-python",
   "name": "python",
   "nbconvert_exporter": "python",
   "pygments_lexer": "ipython3",
   "version": "3.10.6"
  },
  "orig_nbformat": 4,
  "vscode": {
   "interpreter": {
    "hash": "0088ae6f82f4fe8dcacd7cc0f778ec51c5bfbae04fc46db5062565ae006c048b"
   }
  }
 },
 "nbformat": 4,
 "nbformat_minor": 2
}
